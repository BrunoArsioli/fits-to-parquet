{
  "nbformat": 4,
  "nbformat_minor": 0,
  "metadata": {
    "colab": {
      "provenance": []
    },
    "kernelspec": {
      "name": "python3",
      "display_name": "Python 3"
    },
    "language_info": {
      "name": "python"
    }
  },
  "cells": [
    {
      "cell_type": "markdown",
      "source": [
        "# ToDo :  \n",
        "\n",
        "* include a brief description of the problem you are solving and the context in which the code was developed.\n",
        "\n",
        "* including usage instructions, installation requirements"
      ],
      "metadata": {
        "id": "hOGLBj9JPKnz"
      }
    },
    {
      "cell_type": "code",
      "execution_count": null,
      "metadata": {
        "id": "jlmxWVXtMade"
      },
      "outputs": [],
      "source": [
        "# read .fits write .parquet\n",
        "\n",
        "def fits_to_parquet(fits_path):\n",
        "  \n",
        "  # read .fits file \n",
        "  data = Table.read(f\"{fits_path}\")\n",
        "  \n",
        "  # .fits to pandas dataframe\n",
        "  datadf = data.to_pandas()\n",
        "\n",
        "  # remove extention from fits_path\n",
        "  parquet_path = fits_path.replace(\".fits\", \".parquet\")\n",
        "\n",
        "  # df to .parquet\n",
        "  datadf.to_parquet(f\"{parquet_path}\")\n",
        "\n",
        "  return print(\".fits to .parquet is done!\")\n"
      ]
    }
  ]
}