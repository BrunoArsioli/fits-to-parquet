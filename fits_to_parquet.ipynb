{
  "cells": [
    {
      "attachments": {},
      "cell_type": "markdown",
      "metadata": {
        "id": "hOGLBj9JPKnz"
      },
      "source": [
        "In case you work in google.colab, run the following cell first:"
      ]
    },
    {
      "cell_type": "code",
      "execution_count": null,
      "metadata": {},
      "outputs": [],
      "source": [
        "#Allow google.colab to access files in your drive\n",
        "from google.colab import drive\n",
        "drive.mount('/content/drive', force_remount=True)"
      ]
    },
    {
      "cell_type": "code",
      "execution_count": null,
      "metadata": {
        "id": "jlmxWVXtMade"
      },
      "outputs": [],
      "source": [
        "# import libraries\n",
        "import os\n",
        "import pandas \n",
        "import astropy\n",
        "from astropy.table import Table\n",
        "\n",
        "# read .fits write .parquet\n",
        "def fits_to_parquet(fits_path):\n",
        "   \"\"\"\n",
        "    Converts a FITS file to a parquet file.\n",
        "\n",
        "    Parameters\n",
        "    ----------\n",
        "    fits_path : str\n",
        "        Path to the FITS file.\n",
        "\n",
        "    Returns\n",
        "    -------\n",
        "    str\n",
        "        Path to the parquet file.\n",
        "    \"\"\"\n",
        "\n",
        "  # Check that the input file exists \n",
        "  if not os.path.isfile(fits_path):\n",
        "    raise ValueError(\"Input file does not exist\")\n",
        "\n",
        "\n",
        "  # read .fits file \n",
        "  try:\n",
        "    data = Table.read(f\"{fits_path}\")\n",
        "  except ValueError:\n",
        "    raise ValueError(\"Input file is not a valid .fits file. Input needs to be a .fits or .fit file\")  \n",
        "  \n",
        "  # .fits to pandas dataframe\n",
        "  datadf = data.to_pandas()\n",
        "\n",
        "  # remove extention from fits_path\n",
        "  if fits_path.endswith('.fits'):\n",
        "    parquet_path = fits_path.replace(\".fits\", \".parquet\")\n",
        "  elif:\n",
        "    parquet_path = fits_path.replace(\".fit\", \".parquet\")\n",
        "\n",
        "  # check if .parquet file already exist\n",
        "  if os.path.isfile(parquet_path):\n",
        "    raise ValueError(\"Output file already exists\") \n",
        "\n",
        "  # df to .parquet\n",
        "  datadf.to_parquet(f\"{parquet_path}\")\n",
        "\n",
        "  return print(f\".fits to .parquet is done! \\n.parquet saved at: {parquet_path}\")\n"
      ]
    }
  ],
  "metadata": {
    "colab": {
      "provenance": []
    },
    "kernelspec": {
      "display_name": "Python 3",
      "name": "python3"
    },
    "language_info": {
      "name": "python"
    }
  },
  "nbformat": 4,
  "nbformat_minor": 0
}
