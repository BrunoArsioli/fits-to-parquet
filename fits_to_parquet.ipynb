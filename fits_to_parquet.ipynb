{
  "cells": [
    {
      "attachments": {},
      "cell_type": "markdown",
      "metadata": {
        "id": "hOGLBj9JPKnz"
      },
      "source": [
        "In case you work in google.colab, run the following cell:"
      ]
    },
    {
      "cell_type": "code",
      "execution_count": null,
      "metadata": {},
      "outputs": [],
      "source": [
        "#Allow google.colab to access files in your drive\n",
        "from google.colab import drive\n",
        "drive.mount('/content/drive', force_remount=True)"
      ]
    },
    {
      "cell_type": "code",
      "execution_count": null,
      "metadata": {
        "id": "jlmxWVXtMade"
      },
      "outputs": [],
      "source": [
        "# import libraries\n",
        "import pandas \n",
        "import astropy\n",
        "from astropy.table import Table\n",
        "\n",
        "# read .fits write .parquet\n",
        "def fits_to_parquet(fits_path):\n",
        "\n",
        "  #check file extension \n",
        "  if fits_path.endswith('.fits') or fits_path.endswith('.fit'):\n",
        "\n",
        "    # read .fits file \n",
        "    data = Table.read(f\"{fits_path}\")\n",
        "  \n",
        "    # .fits to pandas dataframe\n",
        "    datadf = data.to_pandas()\n",
        "\n",
        "    # remove extention from fits_path\n",
        "    if fits_path.endswith('.fits'):\n",
        "      parquet_path = fits_path.replace(\".fits\", \".parquet\")\n",
        "    else:\n",
        "      parquet_path = fits_path.replace(\".fit\", \".parquet\")\n",
        "\n",
        "    # df to .parquet\n",
        "    datadf.to_parquet(f\"{parquet_path}\")\n",
        "\n",
        "    return print(f\".fits to .parquet is done! \\n.parquet saved at: {parquet_path}\")\n",
        "  \n",
        "  else:\n",
        "    extention = fits_path.suffix\n",
        "    return print(f\"Your file extension is {extention}, not '.fits' neither '.fit'.\")"
      ]
    }
  ],
  "metadata": {
    "colab": {
      "provenance": []
    },
    "kernelspec": {
      "display_name": "Python 3",
      "name": "python3"
    },
    "language_info": {
      "name": "python"
    }
  },
  "nbformat": 4,
  "nbformat_minor": 0
}
